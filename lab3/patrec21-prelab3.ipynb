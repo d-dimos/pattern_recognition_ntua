{
 "cells": [
  {
   "cell_type": "markdown",
   "metadata": {
    "_cell_guid": "a839e699-8710-4772-ae7c-741908db9e43",
    "_uuid": "bfbcc5bf-7bd0-410d-8369-0ecb9b35bcf2"
   },
   "source": [
    "# Pattern Recognition - Flow S\n",
    "## Pre-Lab 3: Genre and Emotion Recognition from Music\n",
    "### Dimitris Dimos - 031 17 165\n",
    "### Konstantinos Kopsinis - 031 17 062"
   ]
  },
  {
   "cell_type": "code",
   "execution_count": 2,
   "metadata": {
    "_cell_guid": "a6b76600-72c2-41a8-8ba1-260992eae9e8",
    "_uuid": "7f410f42-bc67-4452-865a-c6b35e443efa",
    "execution": {
     "iopub.execute_input": "2022-02-27T03:32:39.520466Z",
     "iopub.status.busy": "2022-02-27T03:32:39.520172Z",
     "iopub.status.idle": "2022-02-27T03:32:39.527435Z",
     "shell.execute_reply": "2022-02-27T03:32:39.525649Z",
     "shell.execute_reply.started": "2022-02-27T03:32:39.520425Z"
    }
   },
   "outputs": [],
   "source": [
    "## packages\n",
    "import numpy as np\n",
    "import pandas as pd\n",
    "import os\n",
    "import gc\n",
    "import seaborn as sns\n",
    "import matplotlib.pyplot as plt\n",
    "from matplotlib.colors import ListedColormap\n",
    "from librosa.display import specshow\n",
    "from IPython.display import clear_output\n",
    "from torch.nn.functional import relu\n",
    "\n",
    "import torch\n",
    "from torch import nn\n",
    "from torch import optim\n",
    "from torch.utils.data import DataLoader\n",
    "\n",
    "from sklearn.metrics import classification_report"
   ]
  },
  {
   "cell_type": "markdown",
   "metadata": {
    "_cell_guid": "333cb7d0-fa10-4dfc-9813-c434a2fd147d",
    "_uuid": "2e474d56-deba-47f4-88c4-52fa8c29602d"
   },
   "source": [
    "## Step 0: Familiarization with Kaggle kernel"
   ]
  },
  {
   "cell_type": "code",
   "execution_count": 122,
   "metadata": {
    "_cell_guid": "e1b88787-6b01-4544-8168-af3eb4e86d00",
    "_uuid": "c531bcb5-e3c7-4c23-ab82-79e4c92b0166",
    "execution": {
     "iopub.execute_input": "2022-02-26T16:35:02.670301Z",
     "iopub.status.busy": "2022-02-26T16:35:02.669722Z",
     "iopub.status.idle": "2022-02-26T16:35:06.418341Z",
     "shell.execute_reply": "2022-02-26T16:35:06.417557Z",
     "shell.execute_reply.started": "2022-02-26T16:35:02.670268Z"
    }
   },
   "outputs": [],
   "source": [
    "## print data after having loaded it\n",
    "for dirname, _, filenames in os.walk('/kaggle/input'):\n",
    "    for filename in filenames:\n",
    "        print(os.path.join(dirname, filename))\n",
    "        \n",
    "clear_output()"
   ]
  },
  {
   "cell_type": "code",
   "execution_count": 123,
   "metadata": {
    "_cell_guid": "a37c073c-7c03-4f24-a582-5586aaf6bddf",
    "_uuid": "da13ea78-6a67-4463-9f5b-67e4dfe98f22",
    "execution": {
     "iopub.execute_input": "2022-02-26T16:35:06.420225Z",
     "iopub.status.busy": "2022-02-26T16:35:06.419988Z",
     "iopub.status.idle": "2022-02-26T16:35:06.425817Z",
     "shell.execute_reply": "2022-02-26T16:35:06.425146Z",
     "shell.execute_reply.started": "2022-02-26T16:35:06.420192Z"
    }
   },
   "outputs": [],
   "source": [
    "# explore subfiles\n",
    "os.listdir(\"/kaggle/input/patreco3-multitask-affective-music/data/\")"
   ]
  },
  {
   "cell_type": "code",
   "execution_count": 3,
   "metadata": {
    "_cell_guid": "c98da9a2-6616-44b5-9635-b0b8ee9ddff2",
    "_uuid": "e9974e98-274b-4d47-bbc3-e957611f62a5",
    "execution": {
     "iopub.execute_input": "2022-02-27T03:32:39.529134Z",
     "iopub.status.busy": "2022-02-27T03:32:39.528658Z",
     "iopub.status.idle": "2022-02-27T03:32:39.547867Z",
     "shell.execute_reply": "2022-02-27T03:32:39.547078Z",
     "shell.execute_reply.started": "2022-02-27T03:32:39.529096Z"
    },
    "jupyter": {
     "outputs_hidden": false
    }
   },
   "outputs": [],
   "source": [
    "# data directories\n",
    "fma_genre_spectrograms = \"/kaggle/input/patreco3-multitask-affective-music/data/fma_genre_spectrograms/\"\n",
    "fma_genre_spectrograms_beat = \"/kaggle/input/patreco3-multitask-affective-music/data/fma_genre_spectrograms_beat/\"\n",
    "multitask_dataset = \"/kaggle/input/patreco3-multitask-affective-music/data/multitask_dataset/\"\n",
    "multitask_dataset_beat = \"/kaggle/input/patreco3-multitask-affective-music/data/multitask_dataset_beat/\"\n",
    "\n",
    "# print contents\n",
    "os.listdir(fma_genre_spectrograms)"
   ]
  },
  {
   "cell_type": "markdown",
   "metadata": {
    "_cell_guid": "46c05734-630f-42a3-a401-f427beb4133f",
    "_uuid": "5386dbc8-0914-418d-b48f-6b8901b20e5e"
   },
   "source": [
    "## Step 1: Familiarization with Mel Spectrograms"
   ]
  },
  {
   "cell_type": "code",
   "execution_count": 125,
   "metadata": {
    "_cell_guid": "59af4e94-10ac-470c-8459-3f615e961b6a",
    "_uuid": "c8f6b5f5-74ad-4fba-abf0-78f54a65ca71",
    "execution": {
     "iopub.execute_input": "2022-02-26T16:35:06.442617Z",
     "iopub.status.busy": "2022-02-26T16:35:06.442429Z",
     "iopub.status.idle": "2022-02-26T16:35:06.451526Z",
     "shell.execute_reply": "2022-02-26T16:35:06.450687Z",
     "shell.execute_reply.started": "2022-02-26T16:35:06.442595Z"
    }
   },
   "outputs": [],
   "source": [
    "## (a) randomly choose two FMA samples\n",
    "with open(fma_genre_spectrograms + 'train_labels.txt') as f:\n",
    "    lines = f.readlines()\n",
    "    n_lines = len(lines) - 1 # the first line contains headers\n",
    "    \n",
    "    # randomly choose two lines\n",
    "    line0 = 1336 # np.random.randint(1, n_lines)\n",
    "    line1 = 2346 # np.random.randint(1, n_lines)\n",
    "    \n",
    "    file0, label0 = lines[line0].split()\n",
    "    file1, label1 = lines[line1].split()\n",
    "    \n",
    "    print(file0 +'\\t\\t'+ label0)\n",
    "    print(file1 +'\\t\\t'+ label1)"
   ]
  },
  {
   "cell_type": "code",
   "execution_count": 126,
   "metadata": {
    "_cell_guid": "6f605435-4568-4123-8824-a67882354f11",
    "_uuid": "ad7071c5-f39d-41eb-938f-9f681dd014b7",
    "execution": {
     "iopub.execute_input": "2022-02-26T16:35:06.454639Z",
     "iopub.status.busy": "2022-02-26T16:35:06.454438Z",
     "iopub.status.idle": "2022-02-26T16:35:06.467647Z",
     "shell.execute_reply": "2022-02-26T16:35:06.466869Z",
     "shell.execute_reply.started": "2022-02-26T16:35:06.454615Z"
    }
   },
   "outputs": [],
   "source": [
    "## (b) read files - print spectrograms\n",
    "spec0 = np.load(fma_genre_spectrograms + 'train/' + file0.strip(\".gz\"))\n",
    "spec1 = np.load(fma_genre_spectrograms + 'train/' + file1.strip(\".gz\"))\n",
    "\n",
    "print(f'(mel + chroma frequencies, time steps) = {spec0.shape}')  # (mel + chroma freqs x time steps)\n",
    "print(f'(mel + chroma frequencies, time steps) = {spec1.shape}')  # (mel + chroma freqs x time steps)\n",
    "\n",
    "# decompose into spectrogram and chromagram\n",
    "mel0, chroma0 = spec0[:128], spec0[128:]\n",
    "mel1, chroma1 = spec1[:128], spec1[128:]"
   ]
  },
  {
   "cell_type": "code",
   "execution_count": 127,
   "metadata": {
    "_cell_guid": "c7bbf1c6-aa3c-42dd-b850-978202917871",
    "_uuid": "6f819223-fa4f-4c75-a884-72d47761f3fc",
    "execution": {
     "iopub.execute_input": "2022-02-26T16:35:06.470906Z",
     "iopub.status.busy": "2022-02-26T16:35:06.470673Z",
     "iopub.status.idle": "2022-02-26T16:35:06.782504Z",
     "shell.execute_reply": "2022-02-26T16:35:06.781878Z",
     "shell.execute_reply.started": "2022-02-26T16:35:06.470878Z"
    }
   },
   "outputs": [],
   "source": [
    "## (c) plot spectrograms\n",
    "plt.rcParams['figure.figsize'] = [20, 6]\n",
    "\n",
    "# spectrograms\n",
    "plt.subplot(1, 2, 1)\n",
    "plt.title(label0)\n",
    "specshow(mel0)\n",
    "plt.subplot(1, 2, 2)\n",
    "plt.title(label1)\n",
    "specshow(mel1)\n",
    "plt.show()"
   ]
  },
  {
   "cell_type": "markdown",
   "metadata": {
    "_cell_guid": "a52e3b65-808d-4b6d-8713-63bf60a5d150",
    "_uuid": "ab97f3ca-42fb-4d65-a4c2-b552f191749c"
   },
   "source": [
    "## Step 2: Beat-synced Spectrograms"
   ]
  },
  {
   "cell_type": "code",
   "execution_count": 128,
   "metadata": {
    "_cell_guid": "07a00abb-4de1-4bfe-83ef-601262deb05d",
    "_uuid": "3a2ec02c-d03f-4403-8ff7-6d4ecaee3bab",
    "execution": {
     "iopub.execute_input": "2022-02-26T16:35:06.784354Z",
     "iopub.status.busy": "2022-02-26T16:35:06.783890Z",
     "iopub.status.idle": "2022-02-26T16:35:06.790537Z",
     "shell.execute_reply": "2022-02-26T16:35:06.789528Z",
     "shell.execute_reply.started": "2022-02-26T16:35:06.784317Z"
    }
   },
   "outputs": [],
   "source": [
    "## (a) \n",
    "\n",
    "print(f\"1st spectrogram shape: {mel0.shape}\")\n",
    "print(f\"2nd spectrogram shape: {mel1.shape}\")\n",
    "print(f'time steps: {mel0.shape[1]}')"
   ]
  },
  {
   "cell_type": "code",
   "execution_count": 129,
   "metadata": {
    "_cell_guid": "35f6bf39-6dd1-4799-b5a0-41b28fcbae90",
    "_uuid": "efd7e136-f2cb-4770-b82b-549e235282a4",
    "execution": {
     "iopub.execute_input": "2022-02-26T16:35:06.792668Z",
     "iopub.status.busy": "2022-02-26T16:35:06.792201Z",
     "iopub.status.idle": "2022-02-26T16:35:06.907673Z",
     "shell.execute_reply": "2022-02-26T16:35:06.906868Z",
     "shell.execute_reply.started": "2022-02-26T16:35:06.792621Z"
    }
   },
   "outputs": [],
   "source": [
    "## (b) we now repeat the same for the beat-synced spectrograms\n",
    "\n",
    "# read files - print spectrograms\n",
    "spec0_beat = np.load(fma_genre_spectrograms_beat + 'train/' + file0.strip(\".gz\"))\n",
    "spec1_beat = np.load(fma_genre_spectrograms_beat + 'train/' + file1.strip(\".gz\"))\n",
    "\n",
    "# decompose into spectrogram and chromagram\n",
    "mel0_beat, chroma0_beat = spec0_beat[:128], spec0_beat[128:]\n",
    "mel1_beat, chroma1_beat = spec1_beat[:128], spec1_beat[128:]\n",
    "\n",
    "print(f'1st spectrogram shape (beat-sync): {mel0_beat.shape}')  # (mel freqs x time steps)\n",
    "print(f'2nd spectrogram shape (beat-sync): {mel1_beat.shape}')  # (mel freqs x time steps)\n",
    "\n",
    "## plot spectrograms\n",
    "plt.rcParams['figure.figsize'] = [20, 6]\n",
    "\n",
    "plt.subplot(1, 2, 1)\n",
    "plt.title(label0)\n",
    "specshow(mel0_beat)\n",
    "plt.subplot(1, 2, 2)\n",
    "plt.title(label1)\n",
    "specshow(mel1_beat)\n",
    "plt.show()"
   ]
  },
  {
   "cell_type": "markdown",
   "metadata": {
    "_cell_guid": "8c6c3055-0d4e-4445-8372-5021eb04cbbf",
    "_uuid": "8c8cfc1c-622a-4b17-ac4a-91c2b51b5c67"
   },
   "source": [
    "## Step 3: Familiarization with Chromagrams"
   ]
  },
  {
   "cell_type": "code",
   "execution_count": 130,
   "metadata": {
    "_cell_guid": "4c19f03c-03db-4c5c-aa1c-cdf7020cdc3c",
    "_uuid": "05a5ddc4-99be-4c9b-ad5e-04a713f40670",
    "execution": {
     "iopub.execute_input": "2022-02-26T16:35:06.909393Z",
     "iopub.status.busy": "2022-02-26T16:35:06.909079Z",
     "iopub.status.idle": "2022-02-26T16:35:07.049632Z",
     "shell.execute_reply": "2022-02-26T16:35:07.048822Z",
     "shell.execute_reply.started": "2022-02-26T16:35:06.909354Z"
    }
   },
   "outputs": [],
   "source": [
    "## plots\n",
    "plt.rcParams['figure.figsize'] = [20, 6]\n",
    "\n",
    "plt.subplot(1, 2, 1)\n",
    "plt.title(label0)\n",
    "specshow(chroma0)\n",
    "plt.subplot(1, 2, 2)\n",
    "plt.title(label1)\n",
    "specshow(chroma1)\n",
    "plt.show()"
   ]
  },
  {
   "cell_type": "code",
   "execution_count": 131,
   "metadata": {
    "_cell_guid": "8b8b9ef2-3987-4836-bab8-b9813433b4f5",
    "_uuid": "55d9de10-4ffe-40ab-8fb2-5c1c57ae7f1d",
    "execution": {
     "iopub.execute_input": "2022-02-26T16:35:07.053049Z",
     "iopub.status.busy": "2022-02-26T16:35:07.052709Z",
     "iopub.status.idle": "2022-02-26T16:35:07.060033Z",
     "shell.execute_reply": "2022-02-26T16:35:07.059231Z",
     "shell.execute_reply.started": "2022-02-26T16:35:07.053013Z"
    }
   },
   "outputs": [],
   "source": [
    "# shapes\n",
    "print(f\"1st chromagram shape: {chroma0.shape}\")\n",
    "print(f\"2nd chromagram shape: {chroma1.shape}\")\n",
    "print(f'time steps: {chroma0.shape[1]}')"
   ]
  },
  {
   "cell_type": "code",
   "execution_count": 132,
   "metadata": {
    "_cell_guid": "9a253a77-dd1b-444f-852e-985b3f666eb7",
    "_uuid": "137faae6-d99e-4acf-ab2a-2551a108ddf0",
    "execution": {
     "iopub.execute_input": "2022-02-26T16:35:07.062378Z",
     "iopub.status.busy": "2022-02-26T16:35:07.061463Z",
     "iopub.status.idle": "2022-02-26T16:35:07.157056Z",
     "shell.execute_reply": "2022-02-26T16:35:07.156224Z",
     "shell.execute_reply.started": "2022-02-26T16:35:07.062339Z"
    }
   },
   "outputs": [],
   "source": [
    "# beat-synced chromagrams\n",
    "\n",
    "print(f'1st chromagram shape (beat-sync): {chroma0_beat.shape}')  # (chroma freqs x time steps)\n",
    "print(f'2nd chromagram shape (beat-sync): {chroma1_beat.shape}')  # (chroma freqs x time steps)\n",
    "\n",
    "## plot spectrograms\n",
    "plt.rcParams['figure.figsize'] = [20, 6]\n",
    "\n",
    "plt.subplot(1, 2, 1)\n",
    "plt.title(label0)\n",
    "specshow(chroma0_beat)\n",
    "plt.subplot(1, 2, 2)\n",
    "plt.title(label1)\n",
    "specshow(chroma1_beat)\n",
    "plt.show()"
   ]
  },
  {
   "cell_type": "markdown",
   "metadata": {
    "_cell_guid": "e8f6d399-d513-44d8-80de-955520d9a4e3",
    "_uuid": "78433954-cf60-4e19-9501-b56448d4feb9"
   },
   "source": [
    "## Step 4: Data Loading and Analysis"
   ]
  },
  {
   "cell_type": "code",
   "execution_count": 4,
   "metadata": {
    "_cell_guid": "08d81cc8-a66d-47cd-b64f-3b058cd49394",
    "_uuid": "afc34264-fe9a-49af-a3b7-a10045736ca5",
    "execution": {
     "iopub.execute_input": "2022-02-27T03:32:54.349809Z",
     "iopub.status.busy": "2022-02-27T03:32:54.349552Z",
     "iopub.status.idle": "2022-02-27T03:32:55.039188Z",
     "shell.execute_reply": "2022-02-27T03:32:55.038250Z",
     "shell.execute_reply.started": "2022-02-27T03:32:54.349779Z"
    },
    "jupyter": {
     "outputs_hidden": false
    }
   },
   "outputs": [],
   "source": [
    "# we now import the auxiliary code from github\n",
    "!cp -r /kaggle/input/lab3-aux/* ./\n",
    "import dataset\n",
    "import dataset2\n",
    "import lab2_lstm"
   ]
  },
  {
   "cell_type": "markdown",
   "metadata": {
    "_cell_guid": "f9737e65-da6e-4448-8944-cfee3ba36692",
    "_uuid": "d77fbb41-747c-43a8-ac61-1df614d6ab8f"
   },
   "source": [
    "Since our RAM is only 13GB, we have to make some manual arrangements so as to avoid allocating unnecessary space. For this cause, we define our data_generator having two modes:\n",
    "\n",
    "- mode (a) [forShow=False]: dataloading and returning the necessary dataloaders (allocates RAM)\n",
    "- mode (b) [forShow=True]: loading only train and val data and showing relevant information (does not allocate RAM)"
   ]
  },
  {
   "cell_type": "code",
   "execution_count": 24,
   "metadata": {
    "_cell_guid": "58013ef7-0270-4f72-b771-365e10a725b6",
    "_uuid": "f51443ce-0ee8-499f-be28-700b5f6df088",
    "execution": {
     "iopub.execute_input": "2022-02-26T23:42:21.235148Z",
     "iopub.status.busy": "2022-02-26T23:42:21.234640Z",
     "iopub.status.idle": "2022-02-26T23:42:21.243006Z",
     "shell.execute_reply": "2022-02-26T23:42:21.242320Z",
     "shell.execute_reply.started": "2022-02-26T23:42:21.235104Z"
    },
    "jupyter": {
     "outputs_hidden": false
    }
   },
   "outputs": [],
   "source": [
    "## data generator\n",
    "def data_generator(directory, class_mapping, read_spec_fn, batch_size=32, forShow=False):\n",
    "    train_val_loader = dataset.SpectrogramDataset(directory,\n",
    "                                                  train=True,\n",
    "                                                  class_mapping=class_mapping,\n",
    "                                                  max_length=-1,\n",
    "                                                  read_spec_fn=read_spec_fn\n",
    "                                                 )\n",
    "    # train and validation sets\n",
    "    train_loader, val_loader = dataset.torch_train_val_split(train_val_loader, batch_size ,batch_size, val_size=.33)\n",
    "    \n",
    "    # if we only need to see train data info, return here\n",
    "    # so as to not allocate any RAM\n",
    "    if forShow:\n",
    "        # print info\n",
    "        datum = next(iter(train_loader))\n",
    "        print('Data shape')\n",
    "        print(datum[0].shape)  # shape of data\n",
    "        print('Labels')\n",
    "        print(datum[1])  # labels in batch\n",
    "        print('Lengths')\n",
    "        print(datum[2])  # length of each element in batch\n",
    "        return\n",
    "    \n",
    "    # test set\n",
    "    ttest_loader_ = dataset.SpectrogramDataset(directory,\n",
    "                                               train=False,\n",
    "                                               class_mapping=class_mapping,\n",
    "                                               max_length=-1,\n",
    "                                               read_spec_fn=read_spec_fn\n",
    "                                              )\n",
    "    ttest_loader = DataLoader(ttest_loader_, batch_size=batch_size)\n",
    "    \n",
    "    return train_loader, val_loader, ttest_loader"
   ]
  },
  {
   "cell_type": "markdown",
   "metadata": {
    "_cell_guid": "ca71171d-f6f0-4234-a21f-e3df0200674d",
    "_uuid": "347d17a8-45a9-4d83-a4b8-2c43976bf883"
   },
   "source": [
    "At first we will use the function in mode (b), to showcase our data info. Afterwards, when we will train our LSTMs we will use the data_generator in mode (a). This way, we will have the convenience to delete unnecessary data whenever we want to (after each training)."
   ]
  },
  {
   "cell_type": "markdown",
   "metadata": {
    "_cell_guid": "b3856daf-9561-4643-a014-c2cac87a4bb6",
    "_uuid": "67e235c6-21d0-4cdf-b3be-90f6057e0a0d"
   },
   "source": [
    "### Load non-beat-synced mel Spectrograms"
   ]
  },
  {
   "cell_type": "code",
   "execution_count": 135,
   "metadata": {
    "_cell_guid": "2118585a-9e1e-43c8-b783-124ed78e496d",
    "_uuid": "ae8b18cb-9850-42ff-af95-ff930606ba22",
    "execution": {
     "iopub.execute_input": "2022-02-26T16:35:07.879592Z",
     "iopub.status.busy": "2022-02-26T16:35:07.879244Z",
     "iopub.status.idle": "2022-02-26T16:35:12.786439Z",
     "shell.execute_reply": "2022-02-26T16:35:12.785746Z",
     "shell.execute_reply.started": "2022-02-26T16:35:07.879557Z"
    }
   },
   "outputs": [],
   "source": [
    "data_generator(directory=fma_genre_spectrograms, class_mapping=dataset.CLASS_MAPPING, read_spec_fn=dataset.read_mel_spectrogram, forShow=True)"
   ]
  },
  {
   "cell_type": "markdown",
   "metadata": {
    "_cell_guid": "21d274d6-1f75-4d16-8a3e-e9bb51270d2a",
    "_uuid": "f07aa267-cc42-4fac-9c93-6f3d1c95dc4a"
   },
   "source": [
    "### Load beat-synced mel Spectrograms"
   ]
  },
  {
   "cell_type": "code",
   "execution_count": 136,
   "metadata": {
    "_cell_guid": "11cf862e-58ed-4e88-aec3-19c4413e100d",
    "_uuid": "b4df14b8-b383-4222-9667-18e42b1dcfb2",
    "execution": {
     "iopub.execute_input": "2022-02-26T16:35:12.789319Z",
     "iopub.status.busy": "2022-02-26T16:35:12.788705Z",
     "iopub.status.idle": "2022-02-26T16:35:14.706353Z",
     "shell.execute_reply": "2022-02-26T16:35:14.705532Z",
     "shell.execute_reply.started": "2022-02-26T16:35:12.789288Z"
    }
   },
   "outputs": [],
   "source": [
    "data_generator(directory=fma_genre_spectrograms_beat, class_mapping=dataset.CLASS_MAPPING, read_spec_fn=dataset.read_mel_spectrogram, forShow=True)"
   ]
  },
  {
   "cell_type": "markdown",
   "metadata": {
    "_cell_guid": "b8f78e75-6e11-40bc-9aba-a52df7b3fd76",
    "_uuid": "53d72f5b-d493-45d8-959b-bac6441ab6f7"
   },
   "source": [
    "### Load non-beat-synced Chromagrams"
   ]
  },
  {
   "cell_type": "code",
   "execution_count": 137,
   "metadata": {
    "_cell_guid": "ac2f15a9-dc24-4db8-b7c8-02700fba13bc",
    "_uuid": "60dfd2fa-f3ab-492b-bb4d-2c580678880b",
    "execution": {
     "iopub.execute_input": "2022-02-26T16:35:14.707782Z",
     "iopub.status.busy": "2022-02-26T16:35:14.707529Z",
     "iopub.status.idle": "2022-02-26T16:35:18.852934Z",
     "shell.execute_reply": "2022-02-26T16:35:18.850982Z",
     "shell.execute_reply.started": "2022-02-26T16:35:14.707745Z"
    }
   },
   "outputs": [],
   "source": [
    "data_generator(directory=fma_genre_spectrograms, class_mapping=dataset.CLASS_MAPPING, read_spec_fn=dataset.read_chromagram, forShow=True)"
   ]
  },
  {
   "cell_type": "markdown",
   "metadata": {
    "_cell_guid": "e0586175-1ff7-473a-8000-318a04ca6c53",
    "_uuid": "abf1390b-5695-4a20-abb6-8b01bcb75f1b"
   },
   "source": [
    "### Load beat-synced Chromagrams"
   ]
  },
  {
   "cell_type": "code",
   "execution_count": 138,
   "metadata": {
    "_cell_guid": "0f66411e-1971-462e-bf71-fe8918219363",
    "_uuid": "bc970e8d-c367-4243-8738-5e961260ef34",
    "execution": {
     "iopub.execute_input": "2022-02-26T16:35:18.854889Z",
     "iopub.status.busy": "2022-02-26T16:35:18.854539Z",
     "iopub.status.idle": "2022-02-26T16:35:20.730765Z",
     "shell.execute_reply": "2022-02-26T16:35:20.730088Z",
     "shell.execute_reply.started": "2022-02-26T16:35:18.854824Z"
    }
   },
   "outputs": [],
   "source": [
    "data_generator(directory=fma_genre_spectrograms_beat, class_mapping=dataset.CLASS_MAPPING, read_spec_fn=dataset.read_chromagram, forShow=True)"
   ]
  },
  {
   "cell_type": "markdown",
   "metadata": {
    "_cell_guid": "1fa2b81e-c851-42c1-95c0-cb27cde4a86d",
    "_uuid": "ba79bdff-8175-48cd-a395-314ee03f02d6"
   },
   "source": [
    "### Load \n",
    "\n",
    "Spectrogram-Chromagram (non-beat-synced)"
   ]
  },
  {
   "cell_type": "code",
   "execution_count": 139,
   "metadata": {
    "_cell_guid": "91f6e5ab-23b0-4f97-ad02-f93613f29f34",
    "_uuid": "b5d5750c-a833-45c9-a42e-67e1d228902a",
    "execution": {
     "iopub.execute_input": "2022-02-26T16:35:20.732443Z",
     "iopub.status.busy": "2022-02-26T16:35:20.732130Z",
     "iopub.status.idle": "2022-02-26T16:35:25.018500Z",
     "shell.execute_reply": "2022-02-26T16:35:25.017685Z",
     "shell.execute_reply.started": "2022-02-26T16:35:20.732406Z"
    }
   },
   "outputs": [],
   "source": [
    "data_generator(directory=fma_genre_spectrograms, class_mapping=dataset.CLASS_MAPPING, read_spec_fn=dataset.read_fused_spectrogram, forShow=True)"
   ]
  },
  {
   "cell_type": "code",
   "execution_count": 140,
   "metadata": {
    "_cell_guid": "af9e276c-e368-429f-90d4-b7391527f979",
    "_uuid": "86958f24-cebe-4147-b665-860bf2cc6802",
    "execution": {
     "iopub.execute_input": "2022-02-26T16:35:25.020388Z",
     "iopub.status.busy": "2022-02-26T16:35:25.019920Z",
     "iopub.status.idle": "2022-02-26T16:35:25.262831Z",
     "shell.execute_reply": "2022-02-26T16:35:25.262065Z",
     "shell.execute_reply.started": "2022-02-26T16:35:25.020349Z"
    },
    "jupyter": {
     "outputs_hidden": false
    }
   },
   "outputs": [],
   "source": [
    "# let's free some unnecessary RAM\n",
    "gc.collect()"
   ]
  },
  {
   "cell_type": "markdown",
   "metadata": {
    "_cell_guid": "bee44743-d474-453a-80fd-0a0abe2e35fc",
    "_uuid": "ea60f8ba-0c1e-44d4-86ec-64e1197c54d5"
   },
   "source": [
    "### Plot Before-After Histograms"
   ]
  },
  {
   "cell_type": "code",
   "execution_count": 141,
   "metadata": {
    "_cell_guid": "6c708251-7d55-43b2-92d4-9df21940f812",
    "_uuid": "e811c361-4b83-4bcd-b6fb-41fcec236470",
    "execution": {
     "iopub.execute_input": "2022-02-26T16:35:25.264811Z",
     "iopub.status.busy": "2022-02-26T16:35:25.264528Z",
     "iopub.status.idle": "2022-02-26T16:35:30.102636Z",
     "shell.execute_reply": "2022-02-26T16:35:30.101891Z",
     "shell.execute_reply.started": "2022-02-26T16:35:25.264772Z"
    }
   },
   "outputs": [],
   "source": [
    "# create the same dataset without merging classes\n",
    "mel_beat_unmerged = dataset.SpectrogramDataset(fma_genre_spectrograms_beat,\n",
    "                                               train=True,\n",
    "                                               max_length=-1,\n",
    "                                               read_spec_fn=dataset.read_mel_spectrogram\n",
    "                                              )\n",
    "\n",
    "mel_beat_merged = dataset.SpectrogramDataset(fma_genre_spectrograms_beat,\n",
    "                                             train=True,\n",
    "                                             class_mapping=dataset.CLASS_MAPPING,\n",
    "                                             max_length=-1,\n",
    "                                             read_spec_fn=dataset.read_mel_spectrogram\n",
    "                                            )\n",
    "\n",
    "# collect the labels sequence before\n",
    "labels_unmerged = []\n",
    "for mel_spectrum in mel_beat_unmerged:\n",
    "    labels_unmerged.append(mel_spectrum[1])\n",
    "    \n",
    "# collect the labels sequence after\n",
    "labels_merged = []\n",
    "for mel_spectrum in mel_beat_merged:\n",
    "    labels_merged.append(mel_spectrum[1])"
   ]
  },
  {
   "cell_type": "code",
   "execution_count": 142,
   "metadata": {
    "_cell_guid": "b9972326-d260-4411-98c9-7298d4943294",
    "_uuid": "7da8746d-25a7-4f21-b085-b84fe5c40844",
    "execution": {
     "iopub.execute_input": "2022-02-26T16:35:30.104089Z",
     "iopub.status.busy": "2022-02-26T16:35:30.103806Z",
     "iopub.status.idle": "2022-02-26T16:35:30.311532Z",
     "shell.execute_reply": "2022-02-26T16:35:30.310822Z",
     "shell.execute_reply.started": "2022-02-26T16:35:30.104054Z"
    },
    "jupyter": {
     "outputs_hidden": false
    }
   },
   "outputs": [],
   "source": [
    "# free some space\n",
    "del mel_beat_unmerged\n",
    "del mel_beat_merged\n",
    "gc.collect()"
   ]
  },
  {
   "cell_type": "markdown",
   "metadata": {
    "_cell_guid": "751fa7f5-19b6-408e-a59e-522a5a0a8426",
    "_uuid": "27236cd0-9424-4785-a863-465129a8e258"
   },
   "source": [
    "## Step 5: Music Genre Recognition using LSTMs"
   ]
  },
  {
   "cell_type": "code",
   "execution_count": 25,
   "metadata": {
    "_cell_guid": "ea997684-7fff-45d8-b327-a2157c7634df",
    "_uuid": "72989dde-75fb-439c-a1f2-be7cb5b80cfb",
    "execution": {
     "iopub.execute_input": "2022-02-26T23:42:30.846554Z",
     "iopub.status.busy": "2022-02-26T23:42:30.846293Z",
     "iopub.status.idle": "2022-02-26T23:42:30.893462Z",
     "shell.execute_reply": "2022-02-26T23:42:30.892762Z",
     "shell.execute_reply.started": "2022-02-26T23:42:30.846525Z"
    },
    "jupyter": {
     "outputs_hidden": false
    }
   },
   "outputs": [],
   "source": [
    "# hyperparameters\n",
    "EPOCHS = 80\n",
    "RNN_SIZE = 32\n",
    "n_mel = 128\n",
    "n_chroma = 12\n",
    "n_classes = 10\n",
    "num_layers = 1\n",
    "lr = 1e-3\n",
    "criterion = nn.CrossEntropyLoss()\n",
    "DEVICE = torch.device(\"cuda\" if torch.cuda.is_available() else \"cpu\")"
   ]
  },
  {
   "cell_type": "code",
   "execution_count": 26,
   "metadata": {
    "_cell_guid": "0fb73209-e6bc-4659-b66e-8dc30e38356c",
    "_uuid": "faa376b7-79d4-4ce7-a4f2-616f13e71ac6",
    "execution": {
     "iopub.execute_input": "2022-02-26T23:42:32.912562Z",
     "iopub.status.busy": "2022-02-26T23:42:32.911899Z",
     "iopub.status.idle": "2022-02-26T23:42:32.919098Z",
     "shell.execute_reply": "2022-02-26T23:42:32.918345Z",
     "shell.execute_reply.started": "2022-02-26T23:42:32.912527Z"
    },
    "jupyter": {
     "outputs_hidden": false
    }
   },
   "outputs": [],
   "source": [
    "# function to train a model for one epoch\n",
    "# returns the train loss for this epoch\n",
    "def one_epoch_train(model, dataloader, criterion, optimizer):\n",
    "    model.train() # switch to train mode: enable dropout\n",
    "    overall_loss = 0.0\n",
    "    DEVICE = next(model.parameters()).device # set DEVICE to the model's predefined device\n",
    "    \n",
    "    for idx, batch in enumerate(dataloader, 1):\n",
    "        \n",
    "        inputs  = batch[0].to(DEVICE)\n",
    "        labels  = batch[1].to(DEVICE)\n",
    "        lengths = batch[2]\n",
    "        \n",
    "        optimizer.zero_grad()   # zero gradients out\n",
    "        y_preds = model(inputs, lengths)   # forward pass\n",
    "        loss = criterion(y_preds, labels)  # compute loss function\n",
    "        loss.backward()   # compute gradients\n",
    "        optimizer.step()  # update parameters\n",
    "\n",
    "        overall_loss += loss.data.item()\n",
    "\n",
    "    return overall_loss/idx   # train loss"
   ]
  },
  {
   "cell_type": "code",
   "execution_count": 109,
   "metadata": {
    "_cell_guid": "58137055-8692-44c5-96b4-8ad7368584d4",
    "_uuid": "4b21805b-bd07-402d-bd89-620fa1b4900e",
    "execution": {
     "iopub.execute_input": "2022-02-27T00:15:20.423780Z",
     "iopub.status.busy": "2022-02-27T00:15:20.423488Z",
     "iopub.status.idle": "2022-02-27T00:15:20.433805Z",
     "shell.execute_reply": "2022-02-27T00:15:20.432913Z",
     "shell.execute_reply.started": "2022-02-27T00:15:20.423748Z"
    },
    "jupyter": {
     "outputs_hidden": false
    }
   },
   "outputs": [],
   "source": [
    "# function to evaluate model\n",
    "# returns the loss and the predictions\n",
    "def evaluate_model(model, dataloader, criterion, regression=False):\n",
    "    model.eval() # switch to evaluation mode: disable dropout\n",
    "    overall_loss = 0.0\n",
    "    DEVICE = next(model.parameters()).device # set DEVICE to the model's predefined device\n",
    "    \n",
    "    y_pred = [] # predicted labels\n",
    "    y_gold = [] # gold labels\n",
    "    \n",
    "    with torch.no_grad(): # do not compute gradients\n",
    "        for idx, batch in enumerate(dataloader, 1):\n",
    "            \n",
    "            inputs  = batch[0].to(DEVICE)\n",
    "            labels  = batch[1].to(DEVICE)\n",
    "            lengths = batch[2]\n",
    "                \n",
    "            y_preds = model(inputs, lengths)  # forward pass\n",
    "            loss = criterion(y_preds, labels)\n",
    "            if not regression:\n",
    "                prediction = torch.argmax(y_preds, dim=1) # predict\n",
    "            else:\n",
    "                prediction = y_preds\n",
    "            \n",
    "            overall_loss += loss.data.item()\n",
    "            \n",
    "            y_pred.append(prediction.cpu().numpy())\n",
    "            y_gold.append(labels.cpu().numpy())\n",
    "\n",
    "    return overall_loss/idx, (y_gold, y_pred)"
   ]
  },
  {
   "cell_type": "code",
   "execution_count": 28,
   "metadata": {
    "_cell_guid": "b606f057-684c-442e-af68-a5ce3b09328a",
    "_uuid": "2c17f5f9-533f-4d0c-bdfc-6d846a3b69cb",
    "execution": {
     "iopub.execute_input": "2022-02-26T23:42:33.347883Z",
     "iopub.status.busy": "2022-02-26T23:42:33.347084Z",
     "iopub.status.idle": "2022-02-26T23:42:33.358301Z",
     "shell.execute_reply": "2022-02-26T23:42:33.357183Z",
     "shell.execute_reply.started": "2022-02-26T23:42:33.347836Z"
    },
    "jupyter": {
     "outputs_hidden": false
    }
   },
   "outputs": [],
   "source": [
    "# function to intentionally overfit a model\n",
    "# and check for bugs and trainability\n",
    "def overfit_train(model, data_info, criterion, optimizer, epochs):\n",
    "    model.train()\n",
    "    DEVICE = next(model.parameters()).device\n",
    "    \n",
    "    directory = data_info[0]\n",
    "    class_mapping = data_info[1]\n",
    "    read_spec_fn = data_info[2]\n",
    "    \n",
    "    train_loader, val_loader, test_loader = data_generator(directory, class_mapping, read_spec_fn)\n",
    "    train_batch = next(iter(train_loader)) # keep only one batch of 32 samples\n",
    "    \n",
    "    for epoch in range(epochs):\n",
    "\n",
    "        # Get the inputs (batch)\n",
    "        inputs = train_batch[0].to(DEVICE)\n",
    "        labels = train_batch[1].to(DEVICE)\n",
    "        lengths = train_batch[2]\n",
    "        \n",
    "        optimizer.zero_grad() # zero gradients out - pytorch accumulates them otherwise\n",
    "        y_preds = model(inputs, lengths) # forward pass\n",
    "        loss = criterion(y_preds, labels) # calculate loss\n",
    "        loss.backward() # calculate gradients\n",
    "        optimizer.step() # update parameters\n",
    "\n",
    "        if epoch%500 == 0:\n",
    "            print(f'Epoch {epoch}: \\t Training Loss = {loss.data.item()}')\n",
    "            \n",
    "    del train_loader\n",
    "    del val_loader\n",
    "    del test_loader\n",
    "    gc.collect()"
   ]
  },
  {
   "cell_type": "code",
   "execution_count": 169,
   "metadata": {
    "_cell_guid": "45ef263f-9639-45ff-94de-e80cfc1ec76d",
    "_uuid": "5226385f-e87b-4225-b0e9-4f48c58ec68d",
    "execution": {
     "iopub.execute_input": "2022-02-27T01:09:13.698631Z",
     "iopub.status.busy": "2022-02-27T01:09:13.698367Z",
     "iopub.status.idle": "2022-02-27T01:09:13.710334Z",
     "shell.execute_reply": "2022-02-27T01:09:13.709581Z",
     "shell.execute_reply.started": "2022-02-27T01:09:13.698600Z"
    },
    "jupyter": {
     "outputs_hidden": false
    }
   },
   "outputs": [],
   "source": [
    "# function to train a model for multiple epochs\n",
    "def train_model(model, data_info, criterion, optimizer, epochs, early_stopping=False, overfit_batch=False, regression=False):\n",
    "    \n",
    "    if overfit_batch:\n",
    "        overfit_train(model, data_info, criterion, optimizer, epochs)\n",
    "        return\n",
    "    \n",
    "    train_losses = []\n",
    "    val_losses = []\n",
    "    opt_loss = np.inf\n",
    "    count = 0\n",
    "    \n",
    "    if not regression:\n",
    "        directory = data_info[0]\n",
    "        class_mapping = data_info[1]\n",
    "        read_spec_fn = data_info[2]\n",
    "    \n",
    "        train_loader, val_loader, test_loader = data_generator(directory, class_mapping, read_spec_fn)\n",
    "        \n",
    "    if regression:\n",
    "        directory, regression_type = data_info\n",
    "        train_loader, val_loader = get_multitask_dataset(directory,\n",
    "                                                         dataset.CLASS_MAPPING,\n",
    "                                                         regression=regression_type)\n",
    "        \n",
    "\n",
    "    for epoch in range(epochs):\n",
    "        train_loss = one_epoch_train(model, train_loader, criterion, optimizer)\n",
    "        val_loss, (y_gold, y_pred) = evaluate_model(model, val_loader, criterion, regression)\n",
    "\n",
    "        train_losses.append(train_loss)\n",
    "        val_losses.append(val_loss)\n",
    "        if epoch%5 == 0:\n",
    "            print(f'Epoch {epoch}: \\t Training Loss = {train_loss} \\t--\\t Validation Loss = {val_loss}')\n",
    "\n",
    "        \n",
    "        if val_loss < opt_loss:\n",
    "            #torch.save(model, \"./\"+model_name) # checkpoint\n",
    "            opt_loss = val_loss\n",
    "            opt_pred = y_pred\n",
    "            count = 0\n",
    "        else:\n",
    "            count += 1\n",
    "\n",
    "        if early_stopping:\n",
    "            if count == 8:  # if it doesn't get any better, stop so as not to overfit\n",
    "                print(' !!-- Terminated Training due to Early Stopping --!! ')\n",
    "                break\n",
    "           \n",
    "    # free up some space\n",
    "    del train_loader\n",
    "    del val_loader\n",
    "    \n",
    "    if not regression:\n",
    "        del test_loader\n",
    "    gc.collect()\n",
    "\n",
    "    if regression:\n",
    "        return train_losses, val_losses, y_gold, opt_pred\n",
    "    \n",
    "    return train_losses, val_losses"
   ]
  },
  {
   "cell_type": "code",
   "execution_count": 30,
   "metadata": {
    "_cell_guid": "2cf0d511-54e0-47da-9a54-c2d08be32356",
    "_uuid": "581aa932-fa78-4071-bdc9-e2c13d93048f",
    "execution": {
     "iopub.execute_input": "2022-02-26T23:42:35.005309Z",
     "iopub.status.busy": "2022-02-26T23:42:35.003367Z",
     "iopub.status.idle": "2022-02-26T23:42:35.010325Z",
     "shell.execute_reply": "2022-02-26T23:42:35.009539Z",
     "shell.execute_reply.started": "2022-02-26T23:42:35.005275Z"
    },
    "jupyter": {
     "outputs_hidden": false
    }
   },
   "outputs": [],
   "source": [
    "data_info_mel         = (fma_genre_spectrograms, dataset.CLASS_MAPPING, dataset.read_mel_spectrogram)\n",
    "data_info_mel_beat    = (fma_genre_spectrograms_beat, dataset.CLASS_MAPPING, dataset.read_mel_spectrogram)\n",
    "data_info_chroma      = (fma_genre_spectrograms, dataset.CLASS_MAPPING, dataset.read_chromagram)\n",
    "data_info_chroma_beat = (fma_genre_spectrograms_beat, dataset.CLASS_MAPPING, dataset.read_chromagram)\n",
    "data_info_fused       = (fma_genre_spectrograms, dataset.CLASS_MAPPING, dataset.read_fused_spectrogram)"
   ]
  },
  {
   "cell_type": "markdown",
   "metadata": {
    "_cell_guid": "57176bca-c820-430f-b9db-b1ae34ec6f75",
    "_uuid": "a4a758a1-9ab7-47c6-a91f-8dc77193a052"
   },
   "source": [
    "First, we intentionally overfit a model to check whether our architecture is trainable and free of bugs."
   ]
  },
  {
   "cell_type": "code",
   "execution_count": 150,
   "metadata": {
    "_cell_guid": "7d36f733-b53d-4d2e-83a5-b52eb4fea5d3",
    "_uuid": "1e396bc8-6607-4423-bd37-6c4d87b48b8d",
    "execution": {
     "iopub.execute_input": "2022-02-26T16:35:30.986802Z",
     "iopub.status.busy": "2022-02-26T16:35:30.986539Z",
     "iopub.status.idle": "2022-02-26T16:35:31.001394Z",
     "shell.execute_reply": "2022-02-26T16:35:31.000551Z",
     "shell.execute_reply.started": "2022-02-26T16:35:30.986766Z"
    }
   },
   "outputs": [],
   "source": [
    "# intentionally overfit the model to check for bugs and trainability\n",
    "model_overfit = lab2_lstm.CustomLSTM(input_dim=n_mel,\n",
    "                                     rnn_size=RNN_SIZE,\n",
    "                                     output_dim=n_classes,\n",
    "                                     num_layers=num_layers,\n",
    "                                     bidirectional=True,\n",
    "                                     dropout=0).double().to(DEVICE)\n",
    "\n",
    "optimizer = torch.optim.Adam(model_overfit.parameters(), lr=lr)"
   ]
  },
  {
   "cell_type": "code",
   "execution_count": 151,
   "metadata": {
    "_cell_guid": "7b6e32e4-0e11-4568-b553-1285f249de60",
    "_uuid": "5f2a9223-34f9-4693-b4fb-8bfcc026ccd4",
    "execution": {
     "iopub.execute_input": "2022-02-26T16:35:31.004625Z",
     "iopub.status.busy": "2022-02-26T16:35:31.004094Z",
     "iopub.status.idle": "2022-02-26T16:36:52.164657Z",
     "shell.execute_reply": "2022-02-26T16:36:52.163895Z",
     "shell.execute_reply.started": "2022-02-26T16:35:31.004589Z"
    }
   },
   "outputs": [],
   "source": [
    "# train the model so as to overfit and check trainability\n",
    "train_model(model=model_overfit,\n",
    "            data_info=data_info_mel_beat,\n",
    "            criterion=criterion,\n",
    "            optimizer=optimizer,\n",
    "            epochs=8000,\n",
    "            early_stopping=False,\n",
    "            overfit_batch=True)"
   ]
  },
  {
   "cell_type": "markdown",
   "metadata": {
    "_cell_guid": "09880826-a5b6-440b-8e1a-144316d8b95e",
    "_uuid": "87175ad8-e218-40eb-97c4-c05b2c087640"
   },
   "source": [
    "### Training a model on mel spectrograms (non-beat-synced)"
   ]
  },
  {
   "cell_type": "code",
   "execution_count": 182,
   "metadata": {
    "_cell_guid": "0607ac8f-4dc5-4d84-a10d-df28834a4c53",
    "_uuid": "05cb83f2-6f60-4496-b613-a431df7639dd",
    "execution": {
     "iopub.execute_input": "2022-02-26T16:54:25.723473Z",
     "iopub.status.busy": "2022-02-26T16:54:25.723213Z",
     "iopub.status.idle": "2022-02-26T16:54:25.732585Z",
     "shell.execute_reply": "2022-02-26T16:54:25.731830Z",
     "shell.execute_reply.started": "2022-02-26T16:54:25.723438Z"
    }
   },
   "outputs": [],
   "source": [
    "model_mel = lab2_lstm.CustomLSTM(input_dim=n_mel,\n",
    "                                 rnn_size=RNN_SIZE,\n",
    "                                 output_dim=n_classes,\n",
    "                                 num_layers=num_layers,\n",
    "                                 bidirectional=True,\n",
    "                                 dropout=0).double().to(DEVICE)\n",
    "\n",
    "optimizer = torch.optim.Adam(model_mel.parameters(), lr=lr)"
   ]
  },
  {
   "cell_type": "code",
   "execution_count": 183,
   "metadata": {
    "_cell_guid": "abbdb181-b4b8-4f23-a257-854ac8fe0a03",
    "_uuid": "328f00d4-27de-4bf6-920f-0258c6dc4448",
    "execution": {
     "iopub.execute_input": "2022-02-26T16:54:25.905307Z",
     "iopub.status.busy": "2022-02-26T16:54:25.904795Z",
     "iopub.status.idle": "2022-02-26T17:05:54.419705Z",
     "shell.execute_reply": "2022-02-26T17:05:54.418981Z",
     "shell.execute_reply.started": "2022-02-26T16:54:25.905271Z"
    }
   },
   "outputs": [],
   "source": [
    "train_losses_mel, val_losses_mel = train_model(model=model_mel,\n",
    "                                               data_info=data_info_mel,\n",
    "                                               criterion=criterion,\n",
    "                                               optimizer=optimizer,\n",
    "                                               epochs=EPOCHS,\n",
    "                                               early_stopping=False,\n",
    "                                               overfit_batch=False)"
   ]
  },
  {
   "cell_type": "code",
   "execution_count": 184,
   "metadata": {
    "execution": {
     "iopub.execute_input": "2022-02-26T17:05:54.421757Z",
     "iopub.status.busy": "2022-02-26T17:05:54.421515Z",
     "iopub.status.idle": "2022-02-26T17:05:54.671397Z",
     "shell.execute_reply": "2022-02-26T17:05:54.670656Z",
     "shell.execute_reply.started": "2022-02-26T17:05:54.421726Z"
    }
   },
   "outputs": [],
   "source": [
    "plt.figure(figsize=(8,6))\n",
    "plt.plot(train_losses_mel, label=\"Train Loss\", color=\"#3498db\")\n",
    "plt.plot(val_losses_mel, label=\"Validation Loss\", color=\"#e74c3c\")\n",
    "plt.legend()\n",
    "plt.show()"
   ]
  },
  {
   "cell_type": "markdown",
   "metadata": {
    "_cell_guid": "732e0258-04ee-49d3-bdb6-58242682a878",
    "_uuid": "e1eb7230-637a-455b-ae2f-d82bc4b41b5d"
   },
   "source": [
    "### Training a model on beat-synced mel spectrograms"
   ]
  },
  {
   "cell_type": "code",
   "execution_count": 185,
   "metadata": {
    "_cell_guid": "eae181e5-d0cc-472c-af56-ce48903aac1d",
    "_uuid": "b5224932-ba8c-483d-8e54-79eda1a60441",
    "execution": {
     "iopub.execute_input": "2022-02-26T17:05:54.673292Z",
     "iopub.status.busy": "2022-02-26T17:05:54.672822Z",
     "iopub.status.idle": "2022-02-26T17:05:54.683540Z",
     "shell.execute_reply": "2022-02-26T17:05:54.682798Z",
     "shell.execute_reply.started": "2022-02-26T17:05:54.673254Z"
    }
   },
   "outputs": [],
   "source": [
    "model_mel_beat = lab2_lstm.CustomLSTM(input_dim=n_mel,\n",
    "                                      rnn_size=RNN_SIZE,\n",
    "                                      output_dim=n_classes,\n",
    "                                      num_layers=num_layers,\n",
    "                                      bidirectional=True,\n",
    "                                      dropout=0).double().to(DEVICE)\n",
    "\n",
    "optimizer = torch.optim.Adam(model_mel_beat.parameters(), lr=lr)"
   ]
  },
  {
   "cell_type": "code",
   "execution_count": 186,
   "metadata": {
    "_cell_guid": "e85e842b-36f4-4756-bc18-052d97bd93c3",
    "_uuid": "9bb9f380-55dd-4ee0-940e-9f2efa1df3b0",
    "execution": {
     "iopub.execute_input": "2022-02-26T17:05:54.686339Z",
     "iopub.status.busy": "2022-02-26T17:05:54.686085Z",
     "iopub.status.idle": "2022-02-26T17:07:10.542361Z",
     "shell.execute_reply": "2022-02-26T17:07:10.541593Z",
     "shell.execute_reply.started": "2022-02-26T17:05:54.686302Z"
    }
   },
   "outputs": [],
   "source": [
    "train_losses_mel_beat, val_losses_mel_beat = train_model(model=model_mel_beat,\n",
    "                                                         data_info=data_info_mel_beat,\n",
    "                                                         criterion=criterion,\n",
    "                                                         optimizer=optimizer,\n",
    "                                                         epochs=EPOCHS,\n",
    "                                                         early_stopping=False,\n",
    "                                                         overfit_batch=False)"
   ]
  },
  {
   "cell_type": "code",
   "execution_count": 187,
   "metadata": {
    "execution": {
     "iopub.execute_input": "2022-02-26T17:07:10.544092Z",
     "iopub.status.busy": "2022-02-26T17:07:10.543805Z",
     "iopub.status.idle": "2022-02-26T17:07:10.795327Z",
     "shell.execute_reply": "2022-02-26T17:07:10.794664Z",
     "shell.execute_reply.started": "2022-02-26T17:07:10.544056Z"
    }
   },
   "outputs": [],
   "source": [
    "plt.figure(figsize=(8,6))\n",
    "plt.plot(train_losses_mel_beat, label=\"Train Loss\", color=\"#3498db\")\n",
    "plt.plot(val_losses_mel_beat, label=\"Validation Loss\", color=\"#e74c3c\")\n",
    "plt.legend()\n",
    "plt.show()"
   ]
  },
  {
   "cell_type": "markdown",
   "metadata": {
    "_cell_guid": "24da834b-4d53-4feb-bad2-bc00a0bf9c2e",
    "_uuid": "f055caf0-1f6f-4289-9e5f-30879f58f250"
   },
   "source": [
    "### Training a model on chromagrams (non-beat-synced)"
   ]
  },
  {
   "cell_type": "code",
   "execution_count": 188,
   "metadata": {
    "_cell_guid": "88a28155-eff6-4308-9100-bc7c43207c0c",
    "_uuid": "a2988b2c-cb59-4014-afb2-03bc7051bb72",
    "execution": {
     "iopub.execute_input": "2022-02-26T17:07:10.796953Z",
     "iopub.status.busy": "2022-02-26T17:07:10.796551Z",
     "iopub.status.idle": "2022-02-26T17:07:10.805425Z",
     "shell.execute_reply": "2022-02-26T17:07:10.804751Z",
     "shell.execute_reply.started": "2022-02-26T17:07:10.796913Z"
    }
   },
   "outputs": [],
   "source": [
    "model_chroma = lab2_lstm.CustomLSTM(input_dim=n_chroma,\n",
    "                                    rnn_size=RNN_SIZE,\n",
    "                                    output_dim=n_classes,\n",
    "                                    num_layers=num_layers,\n",
    "                                    bidirectional=True,\n",
    "                                    dropout=0).double().to(DEVICE)\n",
    "\n",
    "optimizer = torch.optim.Adam(model_chroma.parameters(), lr=lr)"
   ]
  },
  {
   "cell_type": "code",
   "execution_count": 189,
   "metadata": {
    "_cell_guid": "f89d2f17-38ed-4b64-b70d-fd7fb7c1fa6a",
    "_uuid": "a0d8c8eb-4920-4bc6-9eee-d13b805660ad",
    "execution": {
     "iopub.execute_input": "2022-02-26T17:07:10.807195Z",
     "iopub.status.busy": "2022-02-26T17:07:10.806861Z",
     "iopub.status.idle": "2022-02-26T17:20:28.979501Z",
     "shell.execute_reply": "2022-02-26T17:20:28.978723Z",
     "shell.execute_reply.started": "2022-02-26T17:07:10.807110Z"
    }
   },
   "outputs": [],
   "source": [
    "train_losses_chroma, val_losses_chroma = train_model(model=model_chroma,\n",
    "                                                     data_info=data_info_chroma,\n",
    "                                                     criterion=criterion,\n",
    "                                                     optimizer=optimizer,\n",
    "                                                     epochs=EPOCHS*2,\n",
    "                                                     early_stopping=False,\n",
    "                                                     overfit_batch=False)"
   ]
  },
  {
   "cell_type": "code",
   "execution_count": 190,
   "metadata": {
    "execution": {
     "iopub.execute_input": "2022-02-26T17:20:28.981312Z",
     "iopub.status.busy": "2022-02-26T17:20:28.981081Z",
     "iopub.status.idle": "2022-02-26T17:20:29.398568Z",
     "shell.execute_reply": "2022-02-26T17:20:29.397907Z",
     "shell.execute_reply.started": "2022-02-26T17:20:28.981280Z"
    }
   },
   "outputs": [],
   "source": [
    "plt.figure(figsize=(8,6))\n",
    "plt.plot(train_losses_chroma, label=\"Train Loss\", color=\"#3498db\")\n",
    "plt.plot(val_losses_chroma, label=\"Validation Loss\", color=\"#e74c3c\")\n",
    "plt.legend()\n",
    "plt.show()"
   ]
  },
  {
   "cell_type": "markdown",
   "metadata": {
    "_cell_guid": "bb90d2a8-84b9-482f-9790-4749197a739d",
    "_uuid": "28317f68-e7cf-4544-8f47-1689786c320d"
   },
   "source": [
    "### Training a model on fused data (non-beat-synced)"
   ]
  },
  {
   "cell_type": "code",
   "execution_count": 191,
   "metadata": {
    "_cell_guid": "2e881399-7400-49f9-93d5-bda221fde981",
    "_uuid": "4ee9c5c3-4066-4783-be44-08150ae984c0",
    "execution": {
     "iopub.execute_input": "2022-02-26T17:20:29.400326Z",
     "iopub.status.busy": "2022-02-26T17:20:29.399937Z",
     "iopub.status.idle": "2022-02-26T17:20:29.410067Z",
     "shell.execute_reply": "2022-02-26T17:20:29.409230Z",
     "shell.execute_reply.started": "2022-02-26T17:20:29.400287Z"
    }
   },
   "outputs": [],
   "source": [
    "model_fused = lab2_lstm.CustomLSTM(input_dim=n_mel+n_chroma,\n",
    "                                   rnn_size=RNN_SIZE,\n",
    "                                   output_dim=n_classes,\n",
    "                                   num_layers=num_layers,\n",
    "                                   bidirectional=True,\n",
    "                                   dropout=0).double().to(DEVICE)\n",
    "\n",
    "optimizer = torch.optim.Adam(model_fused.parameters(), lr=lr)"
   ]
  },
  {
   "cell_type": "code",
   "execution_count": 192,
   "metadata": {
    "_cell_guid": "64ca0c6c-5700-4fb7-9f75-5ea249396dfe",
    "_uuid": "c888f0f9-4122-44b3-be91-83fa40184f5d",
    "execution": {
     "iopub.execute_input": "2022-02-26T17:20:29.413615Z",
     "iopub.status.busy": "2022-02-26T17:20:29.413271Z",
     "iopub.status.idle": "2022-02-26T17:32:44.690791Z",
     "shell.execute_reply": "2022-02-26T17:32:44.689082Z",
     "shell.execute_reply.started": "2022-02-26T17:20:29.413576Z"
    }
   },
   "outputs": [],
   "source": [
    "train_losses_fused, val_losses_fused = train_model(model=model_fused,\n",
    "                                                   data_info=data_info_fused,\n",
    "                                                   criterion=criterion,\n",
    "                                                   optimizer=optimizer,\n",
    "                                                   epochs=EPOCHS,\n",
    "                                                   early_stopping=False,\n",
    "                                                   overfit_batch=False)"
   ]
  },
  {
   "cell_type": "code",
   "execution_count": 193,
   "metadata": {
    "execution": {
     "iopub.execute_input": "2022-02-26T17:32:44.693234Z",
     "iopub.status.busy": "2022-02-26T17:32:44.693001Z",
     "iopub.status.idle": "2022-02-26T17:32:44.958644Z",
     "shell.execute_reply": "2022-02-26T17:32:44.957994Z",
     "shell.execute_reply.started": "2022-02-26T17:32:44.693201Z"
    }
   },
   "outputs": [],
   "source": [
    "plt.figure(figsize=(8,6))\n",
    "plt.plot(train_losses_fused, label=\"Train Loss\", color=\"#3498db\")\n",
    "plt.plot(val_losses_fused, label=\"Validation Loss\", color=\"#e74c3c\")\n",
    "plt.legend()\n",
    "plt.show()"
   ]
  },
  {
   "cell_type": "markdown",
   "metadata": {
    "_cell_guid": "b83e3259-5462-4cd9-ae44-cceebd317a6c",
    "_uuid": "45eaad79-bd37-4756-874e-86dfdccf4bf3"
   },
   "source": [
    "## Step 6: Model Evaluation"
   ]
  },
  {
   "cell_type": "markdown",
   "metadata": {
    "_cell_guid": "e5169acf-c9a1-4d65-889f-9504ab468670",
    "_uuid": "fc70f913-d90f-4a23-92fc-6da7d461f8a2"
   },
   "source": [
    "### Evaluate the model trained on non-beat-synced mel spectrograms"
   ]
  },
  {
   "cell_type": "code",
   "execution_count": 194,
   "metadata": {
    "_cell_guid": "3d539b15-0e44-4a61-8590-4cff2ecc345f",
    "_uuid": "b8523811-dde4-4c4c-9bf2-9c440b4d36b6",
    "execution": {
     "iopub.execute_input": "2022-02-26T17:32:44.960226Z",
     "iopub.status.busy": "2022-02-26T17:32:44.959974Z",
     "iopub.status.idle": "2022-02-26T17:33:07.433104Z",
     "shell.execute_reply": "2022-02-26T17:33:07.432327Z",
     "shell.execute_reply.started": "2022-02-26T17:32:44.960192Z"
    }
   },
   "outputs": [],
   "source": [
    "train_loader, val_loader, test_loader = data_generator(fma_genre_spectrograms,\n",
    "                                                       dataset.CLASS_MAPPING,\n",
    "                                                       dataset.read_mel_spectrogram)\n",
    "\n",
    "test_loss, (y_test_gold, y_test_pred) = evaluate_model(model=model_mel,\n",
    "                                                       dataloader=test_loader,\n",
    "                                                       criterion=criterion)\n",
    "\n",
    "y_test_true = np.concatenate(y_test_gold, axis=0)\n",
    "y_test_pred = np.concatenate(y_test_pred, axis=0)\n",
    "\n",
    "print(classification_report(y_test_true, y_test_pred))\n",
    "\n",
    "del train_loader\n",
    "del val_loader\n",
    "del test_loader\n",
    "gc.collect()"
   ]
  },
  {
   "cell_type": "markdown",
   "metadata": {
    "_cell_guid": "7a54d79f-740f-46fe-9e47-2baf0758d38d",
    "_uuid": "ba00bd94-35d4-4154-b8db-8505707a942a"
   },
   "source": [
    "## Evaluate the model trained on beat-synced mel spectrograms"
   ]
  },
  {
   "cell_type": "code",
   "execution_count": 195,
   "metadata": {
    "_cell_guid": "c6d3436d-f943-47bf-9c66-646234e922de",
    "_uuid": "596f5475-a1cc-4428-81ce-9067ab098c73",
    "execution": {
     "iopub.execute_input": "2022-02-26T17:33:07.435322Z",
     "iopub.status.busy": "2022-02-26T17:33:07.434547Z",
     "iopub.status.idle": "2022-02-26T17:33:20.136870Z",
     "shell.execute_reply": "2022-02-26T17:33:20.136164Z",
     "shell.execute_reply.started": "2022-02-26T17:33:07.435280Z"
    }
   },
   "outputs": [],
   "source": [
    "train_loader, val_loader, test_loader = data_generator(fma_genre_spectrograms_beat,\n",
    "                                                       dataset.CLASS_MAPPING,\n",
    "                                                       dataset.read_mel_spectrogram)\n",
    "\n",
    "test_loss, (y_test_gold, y_test_pred) = evaluate_model(model=model_mel_beat,\n",
    "                                                       dataloader=test_loader,\n",
    "                                                       criterion=criterion)\n",
    "\n",
    "y_test_true = np.concatenate(y_test_gold, axis=0)\n",
    "y_test_pred = np.concatenate(y_test_pred, axis=0)\n",
    "\n",
    "print(classification_report(y_test_true, y_test_pred))\n",
    "\n",
    "del train_loader\n",
    "del val_loader\n",
    "del test_loader\n",
    "gc.collect()"
   ]
  },
  {
   "cell_type": "markdown",
   "metadata": {
    "_cell_guid": "094f275e-3363-42dc-8b1d-363e78dde9a7",
    "_uuid": "06045dc3-3860-4f5b-b4c6-60ef100176c9"
   },
   "source": [
    "## Evaluate the model trained on chromagrams"
   ]
  },
  {
   "cell_type": "code",
   "execution_count": 196,
   "metadata": {
    "_cell_guid": "ca5046b4-a338-4676-9d5d-f77507766904",
    "_uuid": "afc5a211-4f82-4397-bce9-75687cd4229b",
    "execution": {
     "iopub.execute_input": "2022-02-26T17:33:20.138622Z",
     "iopub.status.busy": "2022-02-26T17:33:20.138184Z",
     "iopub.status.idle": "2022-02-26T17:33:44.231475Z",
     "shell.execute_reply": "2022-02-26T17:33:44.230770Z",
     "shell.execute_reply.started": "2022-02-26T17:33:20.138578Z"
    }
   },
   "outputs": [],
   "source": [
    "train_loader, val_loader, test_loader = data_generator(fma_genre_spectrograms,\n",
    "                                                       dataset.CLASS_MAPPING,\n",
    "                                                       dataset.read_chromagram)\n",
    "\n",
    "test_loss, (y_test_gold, y_test_pred) = evaluate_model(model=model_chroma,\n",
    "                                                       dataloader=test_loader,\n",
    "                                                       criterion=criterion)\n",
    "\n",
    "y_test_true = np.concatenate(y_test_gold, axis=0)\n",
    "y_test_pred = np.concatenate(y_test_pred, axis=0)\n",
    "\n",
    "print(classification_report(y_test_true, y_test_pred))\n",
    "\n",
    "del train_loader\n",
    "del val_loader\n",
    "del test_loader\n",
    "gc.collect()"
   ]
  },
  {
   "cell_type": "markdown",
   "metadata": {
    "_cell_guid": "1b2e944d-ea03-49eb-94bb-0102ef017545",
    "_uuid": "934e11ae-1aab-4240-88c4-0217c494e1d9"
   },
   "source": [
    "### Evaluate the model trained on fused data"
   ]
  },
  {
   "cell_type": "code",
   "execution_count": 197,
   "metadata": {
    "_cell_guid": "b1c6269c-b065-47b2-ab4c-4fc9a64aa27b",
    "_uuid": "11c80e7b-dc24-4265-99b4-f19ddc3959d6",
    "execution": {
     "iopub.execute_input": "2022-02-26T17:33:44.233282Z",
     "iopub.status.busy": "2022-02-26T17:33:44.232642Z",
     "iopub.status.idle": "2022-02-26T17:34:11.930069Z",
     "shell.execute_reply": "2022-02-26T17:34:11.928521Z",
     "shell.execute_reply.started": "2022-02-26T17:33:44.233241Z"
    }
   },
   "outputs": [],
   "source": [
    "train_loader, val_loader, test_loader = data_generator(fma_genre_spectrograms,\n",
    "                                                       dataset.CLASS_MAPPING,\n",
    "                                                       dataset.read_fused_spectrogram)\n",
    "\n",
    "test_loss, (y_test_gold, y_test_pred) = evaluate_model(model=model_fused,\n",
    "                                                       dataloader=test_loader,\n",
    "                                                       criterion=criterion)\n",
    "\n",
    "y_test_true = np.concatenate(y_test_gold, axis=0)\n",
    "y_test_pred = np.concatenate(y_test_pred, axis=0)\n",
    "\n",
    "print(classification_report(y_test_true, y_test_pred))\n",
    "\n",
    "del train_loader\n",
    "del val_loader\n",
    "del test_loader\n",
    "gc.collect()"
   ]
  },
  {
   "cell_type": "markdown",
   "metadata": {},
   "source": [
    "## Re-training using Early Stopping"
   ]
  },
  {
   "cell_type": "markdown",
   "metadata": {},
   "source": [
    "We will now train the same models as before but using early stopping."
   ]
  },
  {
   "cell_type": "code",
   "execution_count": 201,
   "metadata": {
    "_cell_guid": "67a267bf-c0f2-492f-9036-13e398a64e60",
    "_uuid": "1efdd0b2-5d89-4fa9-b307-3f1eae676d3f",
    "execution": {
     "iopub.execute_input": "2022-02-26T17:41:08.426915Z",
     "iopub.status.busy": "2022-02-26T17:41:08.426214Z",
     "iopub.status.idle": "2022-02-26T17:47:42.424490Z",
     "shell.execute_reply": "2022-02-26T17:47:42.423792Z",
     "shell.execute_reply.started": "2022-02-26T17:41:08.426879Z"
    }
   },
   "outputs": [],
   "source": [
    "## Non-beat-synced Spectrograms - Early Stopping\n",
    "# definition\n",
    "model_mel_early = lab2_lstm.CustomLSTM(input_dim=n_mel,\n",
    "                                       rnn_size=RNN_SIZE,\n",
    "                                       output_dim=n_classes,\n",
    "                                       num_layers=num_layers,\n",
    "                                       bidirectional=True,\n",
    "                                       dropout=0).double().to(DEVICE)\n",
    "\n",
    "optimizer = torch.optim.Adam(model_mel_early.parameters(), lr=lr)\n",
    "\n",
    "# training\n",
    "train_losses_mel_e, val_losses_mel_e = train_model(model=model_mel_early,\n",
    "                                                   data_info=data_info_mel,\n",
    "                                                   criterion=criterion,\n",
    "                                                   optimizer=optimizer,\n",
    "                                                   epochs=EPOCHS,\n",
    "                                                   early_stopping=True,\n",
    "                                                   overfit_batch=False)\n",
    "\n",
    "# plotting\n",
    "plt.figure(figsize=(8,6))\n",
    "plt.plot(train_losses_mel_e, label=\"Train Loss\", color=\"#3498db\")\n",
    "plt.plot(val_losses_mel_e, label=\"Validation Loss\", color=\"#e74c3c\")\n",
    "plt.legend()\n",
    "plt.show()"
   ]
  },
  {
   "cell_type": "code",
   "execution_count": 205,
   "metadata": {
    "execution": {
     "iopub.execute_input": "2022-02-26T18:20:49.480861Z",
     "iopub.status.busy": "2022-02-26T18:20:49.480598Z",
     "iopub.status.idle": "2022-02-26T18:22:06.252336Z",
     "shell.execute_reply": "2022-02-26T18:22:06.251618Z",
     "shell.execute_reply.started": "2022-02-26T18:20:49.480820Z"
    }
   },
   "outputs": [],
   "source": [
    "## Beat-synced Spectrograms - Early Stopping\n",
    "# definition\n",
    "model_mel_beat_early = lab2_lstm.CustomLSTM(input_dim=n_mel,\n",
    "                                            rnn_size=RNN_SIZE,\n",
    "                                            output_dim=n_classes,\n",
    "                                            num_layers=num_layers,\n",
    "                                            bidirectional=True,\n",
    "                                            dropout=0).double().to(DEVICE)\n",
    "\n",
    "optimizer = torch.optim.Adam(model_mel_beat_early.parameters(), lr=lr)\n",
    "\n",
    "# training\n",
    "train_losses_mel_beat_e, val_losses_mel_beat_e = train_model(model=model_mel_beat_early,\n",
    "                                                             data_info=data_info_mel_beat,\n",
    "                                                             criterion=criterion,\n",
    "                                                             optimizer=optimizer,\n",
    "                                                             epochs=EPOCHS,\n",
    "                                                             early_stopping=True,\n",
    "                                                             overfit_batch=False)\n",
    "\n",
    "# plotting\n",
    "plt.figure(figsize=(8,6))\n",
    "plt.plot(train_losses_mel_beat_e, label=\"Train Loss\", color=\"#3498db\")\n",
    "plt.plot(val_losses_mel_beat_e, label=\"Validation Loss\", color=\"#e74c3c\")\n",
    "plt.legend()\n",
    "plt.show()"
   ]
  },
  {
   "cell_type": "code",
   "execution_count": 206,
   "metadata": {
    "execution": {
     "iopub.execute_input": "2022-02-26T18:22:06.255016Z",
     "iopub.status.busy": "2022-02-26T18:22:06.253896Z",
     "iopub.status.idle": "2022-02-26T18:24:56.506469Z",
     "shell.execute_reply": "2022-02-26T18:24:56.505741Z",
     "shell.execute_reply.started": "2022-02-26T18:22:06.254972Z"
    }
   },
   "outputs": [],
   "source": [
    "## Non-beat-synced Chromagrams - Early Stopping\n",
    "# definition\n",
    "model_chroma_early = lab2_lstm.CustomLSTM(input_dim=n_chroma,\n",
    "                                          rnn_size=RNN_SIZE,\n",
    "                                          output_dim=n_classes,\n",
    "                                          num_layers=num_layers,\n",
    "                                          bidirectional=True,\n",
    "                                          dropout=0).double().to(DEVICE)\n",
    "\n",
    "optimizer = torch.optim.Adam(model_chroma_early.parameters(), lr=lr)\n",
    "\n",
    "# training\n",
    "train_losses_chroma_e, val_losses_chroma_e = train_model(model=model_chroma_early,\n",
    "                                                     data_info=data_info_chroma,\n",
    "                                                     criterion=criterion,\n",
    "                                                     optimizer=optimizer,\n",
    "                                                     epochs=EPOCHS*2,\n",
    "                                                     early_stopping=True,\n",
    "                                                     overfit_batch=False)\n",
    "\n",
    "# plotting\n",
    "plt.figure(figsize=(8,6))\n",
    "plt.plot(train_losses_chroma_e, label=\"Train Loss\", color=\"#3498db\")\n",
    "plt.plot(val_losses_chroma_e, label=\"Validation Loss\", color=\"#e74c3c\")\n",
    "plt.legend()\n",
    "plt.show()"
   ]
  },
  {
   "cell_type": "code",
   "execution_count": 207,
   "metadata": {
    "execution": {
     "iopub.execute_input": "2022-02-26T18:24:56.508252Z",
     "iopub.status.busy": "2022-02-26T18:24:56.507989Z",
     "iopub.status.idle": "2022-02-26T18:31:29.963481Z",
     "shell.execute_reply": "2022-02-26T18:31:29.962785Z",
     "shell.execute_reply.started": "2022-02-26T18:24:56.508216Z"
    }
   },
   "outputs": [],
   "source": [
    "## Non-beat-synced Fused Spectrogram - Early Stopping\n",
    "# definition\n",
    "model_fused_early = lab2_lstm.CustomLSTM(input_dim=n_mel+n_chroma,\n",
    "                                         rnn_size=RNN_SIZE,\n",
    "                                         output_dim=n_classes,\n",
    "                                         num_layers=num_layers,\n",
    "                                         bidirectional=True,\n",
    "                                         dropout=0).double().to(DEVICE)\n",
    "\n",
    "optimizer = torch.optim.Adam(model_fused_early.parameters(), lr=lr)\n",
    "\n",
    "# training\n",
    "train_losses_fused_e, val_losses_fused_e = train_model(model=model_fused_early,\n",
    "                                                   data_info=data_info_fused,\n",
    "                                                   criterion=criterion,\n",
    "                                                   optimizer=optimizer,\n",
    "                                                   epochs=EPOCHS,\n",
    "                                                   early_stopping=True,\n",
    "                                                   overfit_batch=False)\n",
    "\n",
    "# plotting\n",
    "plt.figure(figsize=(8,6))\n",
    "plt.plot(train_losses_fused_e, label=\"Train Loss\", color=\"#3498db\")\n",
    "plt.plot(val_losses_fused_e, label=\"Validation Loss\", color=\"#e74c3c\")\n",
    "plt.legend()\n",
    "plt.show()"
   ]
  },
  {
   "cell_type": "markdown",
   "metadata": {},
   "source": [
    "We will evaluate the models whose training was interrupted by early stopping."
   ]
  },
  {
   "cell_type": "code",
   "execution_count": 210,
   "metadata": {
    "execution": {
     "iopub.execute_input": "2022-02-26T18:32:40.778445Z",
     "iopub.status.busy": "2022-02-26T18:32:40.778002Z",
     "iopub.status.idle": "2022-02-26T18:33:20.341342Z",
     "shell.execute_reply": "2022-02-26T18:33:20.339034Z",
     "shell.execute_reply.started": "2022-02-26T18:32:40.778407Z"
    }
   },
   "outputs": [],
   "source": [
    "## Non-beat-synced mel spectrograms Evaluation - Early Stopping\n",
    "train_loader, val_loader, test_loader = data_generator(fma_genre_spectrograms,\n",
    "                                                       dataset.CLASS_MAPPING,\n",
    "                                                       dataset.read_mel_spectrogram)\n",
    "\n",
    "test_loss, (y_test_gold, y_test_pred) = evaluate_model(model=model_mel_early,\n",
    "                                                       dataloader=test_loader,\n",
    "                                                       criterion=criterion)\n",
    "\n",
    "y_test_true = np.concatenate(y_test_gold, axis=0)\n",
    "y_test_pred = np.concatenate(y_test_pred, axis=0)\n",
    "\n",
    "print(classification_report(y_test_true, y_test_pred))\n",
    "\n",
    "del train_loader\n",
    "del val_loader\n",
    "del test_loader\n",
    "gc.collect()"
   ]
  },
  {
   "cell_type": "code",
   "execution_count": 211,
   "metadata": {
    "execution": {
     "iopub.execute_input": "2022-02-26T18:33:20.344816Z",
     "iopub.status.busy": "2022-02-26T18:33:20.343774Z",
     "iopub.status.idle": "2022-02-26T18:33:58.119499Z",
     "shell.execute_reply": "2022-02-26T18:33:58.118825Z",
     "shell.execute_reply.started": "2022-02-26T18:33:20.344778Z"
    }
   },
   "outputs": [],
   "source": [
    "## Non-beat-synced Chromagrams Evaluation - Early Stopping\n",
    "train_loader, val_loader, test_loader = data_generator(fma_genre_spectrograms,\n",
    "                                                       dataset.CLASS_MAPPING,\n",
    "                                                       dataset.read_chromagram)\n",
    "\n",
    "test_loss, (y_test_gold, y_test_pred) = evaluate_model(model=model_chroma_early,\n",
    "                                                       dataloader=test_loader,\n",
    "                                                       criterion=criterion)\n",
    "\n",
    "y_test_true = np.concatenate(y_test_gold, axis=0)\n",
    "y_test_pred = np.concatenate(y_test_pred, axis=0)\n",
    "\n",
    "print(classification_report(y_test_true, y_test_pred))\n",
    "\n",
    "del train_loader\n",
    "del val_loader\n",
    "del test_loader\n",
    "gc.collect()"
   ]
  },
  {
   "cell_type": "code",
   "execution_count": 212,
   "metadata": {
    "execution": {
     "iopub.execute_input": "2022-02-26T18:33:58.121429Z",
     "iopub.status.busy": "2022-02-26T18:33:58.120961Z",
     "iopub.status.idle": "2022-02-26T18:34:31.709251Z",
     "shell.execute_reply": "2022-02-26T18:34:31.706741Z",
     "shell.execute_reply.started": "2022-02-26T18:33:58.121391Z"
    }
   },
   "outputs": [],
   "source": [
    "## Non beat-synced Fused Spectrograms Evaluation - Early Stopping\n",
    "train_loader, val_loader, test_loader = data_generator(fma_genre_spectrograms,\n",
    "                                                       dataset.CLASS_MAPPING,\n",
    "                                                       dataset.read_fused_spectrogram)\n",
    "\n",
    "test_loss, (y_test_gold, y_test_pred) = evaluate_model(model=model_fused_early,\n",
    "                                                       dataloader=test_loader,\n",
    "                                                       criterion=criterion)\n",
    "\n",
    "y_test_true = np.concatenate(y_test_gold, axis=0)\n",
    "y_test_pred = np.concatenate(y_test_pred, axis=0)\n",
    "\n",
    "print(classification_report(y_test_true, y_test_pred))\n",
    "\n",
    "del train_loader\n",
    "del val_loader\n",
    "del test_loader\n",
    "gc.collect()"
   ]
  },
  {
   "cell_type": "markdown",
   "metadata": {},
   "source": [
    "At this point we restart kernel to free all allocated RAM"
   ]
  },
  {
   "cell_type": "code",
   "execution_count": null,
   "metadata": {},
   "outputs": [],
   "source": []
  }
 ],
 "metadata": {
  "kernelspec": {
   "display_name": "Python 3 (ipykernel)",
   "language": "python",
   "name": "python3"
  },
  "language_info": {
   "codemirror_mode": {
    "name": "ipython",
    "version": 3
   },
   "file_extension": ".py",
   "mimetype": "text/x-python",
   "name": "python",
   "nbconvert_exporter": "python",
   "pygments_lexer": "ipython3",
   "version": "3.8.5"
  }
 },
 "nbformat": 4,
 "nbformat_minor": 4
}
